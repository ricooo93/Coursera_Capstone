{
    "nbformat_minor": 1, 
    "cells": [
        {
            "source": "# Introduction:\n\nFor someone who is going to start a restaurant in Toronto, it is really important to pick a right position for his business. In this project, we will use the venue imformation provided by the Foursquare to help the restaurant owner to decide the best place to start his business. The k-means cluster approach is used to classify the suburbs so that the stakeholder can start the restaurant in a suburb similar to the well developed suburbs with many restaurants.\n", 
            "cell_type": "markdown", 
            "metadata": {
                "collapsed": true
            }
        }, 
        {
            "source": "# Data:\n\nThe data used in this project are mainly two parts: the location data of Torronto, and the Foursquare data.\n\nThe location data of Torronto (https://en.wikipedia.org/wiki/List_of_postal_codes_of_Canada:M) consisting of the postcode, borough, neibourhoods of the suburbs in Torronto. It is used along with the geospatial data to determine the exact latitudes and longitudes of the suburbs.\n\nThe Foursquare data is provided by the Foursquare. It will provide the information of the venues around certain locations. We will use these venues to determine the similarites of the suburbs.", 
            "cell_type": "markdown", 
            "metadata": {}
        }, 
        {
            "source": "# Methodology\n\nIn this project, K-Means clustering is applied to solve the problem. The intuition behind this methodology is quite straightforward: find out the similar places where a lot of restaurant locate, which obviously means that these places are good to run a restaurant. And then among these places, we will find out the suitable places for a new restaurant based on the frequency of exisiting restaurants. If there are already too many restaurant in that place, running a new restaurant will be really hard facing the stress from others. The best place would be somewhere with enough exsiting restaurants to attract people but not too many restaurants to pose a great pressure.\n\nAbount K-Means clustering: k-means clustering is a method of vector quantization, originally from signal processing, that is popular for cluster analysis in data mining. k-means clustering aims to partition n observations into k clusters in which each observation belongs to the cluster with the nearest mean, serving as a prototype of the cluster. This results in a partitioning of the data space into Voronoi cells. [from wikipedia]\n\nRegarding this problem, we will use the frequency of the venues of a place as the feature. For example, below shows the venues of 5 top frequency of place M2J:\n\n| venue |  freq |\n| --- | --- |\n| Clothing Store | 0.12 |\n| Fast Food Restaurant | 0.09 |\n| Coffee Shop | 0.08 |\n| Restaurant | 0.05 |\n| Toy / Game Store | 0.03 |\n\nThen the places will be clustered according to the frequencies of the venues inside them.\nAfter the clusters are found, we can inspect each cluster to find out the best cluster to run a restaurant, and inside the cluster, we can also find the best place to start a new restaurant.", 
            "cell_type": "markdown", 
            "metadata": {}
        }, 
        {
            "source": "### Result\n\nT", 
            "cell_type": "markdown", 
            "metadata": {}
        }
    ], 
    "metadata": {
        "kernelspec": {
            "display_name": "Python 3.5", 
            "name": "python3", 
            "language": "python"
        }, 
        "language_info": {
            "mimetype": "text/x-python", 
            "nbconvert_exporter": "python", 
            "version": "3.5.5", 
            "name": "python", 
            "pygments_lexer": "ipython3", 
            "file_extension": ".py", 
            "codemirror_mode": {
                "version": 3, 
                "name": "ipython"
            }
        }
    }, 
    "nbformat": 4
}