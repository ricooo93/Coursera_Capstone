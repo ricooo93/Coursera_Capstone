{
    "nbformat_minor": 1, 
    "cells": [
        {
            "source": "<b>Introduction:</b>\n\nFor someone who is going to start a restaurant in Toronto, it is really important to pick a right position for his business. In this project, we will use the venue imformation provided by the Foursquare to help the restaurant owner to decide the best place to start his business. The k-means cluster approach is used to classify the suburbs so that the stakeholder can start the restaurant in a suburb similar to the well developed suburbs with many restaurants.\n", 
            "cell_type": "markdown", 
            "metadata": {
                "collapsed": true
            }
        }, 
        {
            "source": "<b>Data:</b>\n\nThe data used in this project are mainly two parts: the location data of Torronto, and the Foursquare data.\n\nThe location data of Torronto (https://en.wikipedia.org/wiki/List_of_postal_codes_of_Canada:M) consisting of the postcode, borough, neibourhoods of the suburbs in Torronto. It is used along with the geospatial data to determine the exact latitudes and longitudes of the suburbs.\n\nThe Foursquare data is provided by the Foursquare. It will provide the information of the venues around certain locations. We will use these venues to determine the similarites of the suburbs.", 
            "cell_type": "markdown", 
            "metadata": {}
        }, 
        {
            "source": "", 
            "cell_type": "code", 
            "metadata": {}, 
            "outputs": [], 
            "execution_count": null
        }
    ], 
    "metadata": {
        "kernelspec": {
            "display_name": "Python 3.5", 
            "name": "python3", 
            "language": "python"
        }, 
        "language_info": {
            "mimetype": "text/x-python", 
            "nbconvert_exporter": "python", 
            "version": "3.5.5", 
            "name": "python", 
            "pygments_lexer": "ipython3", 
            "file_extension": ".py", 
            "codemirror_mode": {
                "version": 3, 
                "name": "ipython"
            }
        }
    }, 
    "nbformat": 4
}